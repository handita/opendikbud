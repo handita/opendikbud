{
 "cells": [
  {
   "cell_type": "markdown",
   "metadata": {},
   "source": [
    "### Data Kemdikbud scraper\n",
    "\n",
    "Because somehow they make it very painful to just download the data."
   ]
  },
  {
   "cell_type": "code",
   "execution_count": 1,
   "metadata": {
    "collapsed": false
   },
   "outputs": [
    {
     "name": "stderr",
     "output_type": "stream",
     "text": [
      "C:\\Anaconda2\\lib\\site-packages\\pandas\\computation\\__init__.py:19: UserWarning: The installed version of numexpr 2.4.4 is not supported in pandas and will be not be used\n",
      "\n",
      "  UserWarning)\n"
     ]
    }
   ],
   "source": [
    "import urllib\n",
    "from bs4 import BeautifulSoup\n",
    "import pandas as pd"
   ]
  },
  {
   "cell_type": "markdown",
   "metadata": {},
   "source": [
    "Get list of kabupaten/kota"
   ]
  },
  {
   "cell_type": "code",
   "execution_count": 2,
   "metadata": {
    "collapsed": false
   },
   "outputs": [
    {
     "name": "stderr",
     "output_type": "stream",
     "text": [
      "C:\\Anaconda2\\lib\\site-packages\\bs4\\__init__.py:166: UserWarning: No parser was explicitly specified, so I'm using the best available HTML parser for this system (\"lxml\"). This usually isn't a problem, but if you run this code on another system, or in a different virtual environment, it may use a different parser and behave differently.\n",
      "\n",
      "To get rid of this warning, change this:\n",
      "\n",
      " BeautifulSoup([your markup])\n",
      "\n",
      "to this:\n",
      "\n",
      " BeautifulSoup([your markup], \"lxml\")\n",
      "\n",
      "  markup_type=markup_type))\n"
     ]
    }
   ],
   "source": [
    "master = urllib.urlopen(\"http://sekolah.data.kemdikbud.go.id/index.php/cpetasebaran/index/000000/\")\n",
    "mastersoup = BeautifulSoup(master)"
   ]
  },
  {
   "cell_type": "code",
   "execution_count": 3,
   "metadata": {
    "collapsed": false
   },
   "outputs": [
    {
     "data": {
      "text/plain": [
       "[{'code': '060000', 'name': u'Prop. Aceh'},\n",
       " {'code': '220000', 'name': u'Prop. Bali'},\n",
       " {'code': '290000', 'name': u'Prop. Bangka Belitung'},\n",
       " {'code': '280000', 'name': u'Prop. Banten'},\n",
       " {'code': '260000', 'name': u'Prop. Bengkulu'},\n",
       " {'code': '040000', 'name': u'Prop. D.I. Yogyakarta'},\n",
       " {'code': '010000', 'name': u'Prop. D.K.I. Jakarta'},\n",
       " {'code': '300000', 'name': u'Prop. Gorontalo'},\n",
       " {'code': '100000', 'name': u'Prop. Jambi'},\n",
       " {'code': '020000', 'name': u'Prop. Jawa Barat'},\n",
       " {'code': '030000', 'name': u'Prop. Jawa Tengah'},\n",
       " {'code': '050000', 'name': u'Prop. Jawa Timur'},\n",
       " {'code': '130000', 'name': u'Prop. Kalimantan Barat'},\n",
       " {'code': '150000', 'name': u'Prop. Kalimantan Selatan'},\n",
       " {'code': '140000', 'name': u'Prop. Kalimantan Tengah'},\n",
       " {'code': '160000', 'name': u'Prop. Kalimantan Timur'},\n",
       " {'code': '340000', 'name': u'Prop. Kalimantan Utara'},\n",
       " {'code': '310000', 'name': u'Prop. Kepulauan Riau'},\n",
       " {'code': '120000', 'name': u'Prop. Lampung'},\n",
       " {'code': '210000', 'name': u'Prop. Maluku'},\n",
       " {'code': '270000', 'name': u'Prop. Maluku Utara'},\n",
       " {'code': '230000', 'name': u'Prop. Nusa Tenggara Barat'},\n",
       " {'code': '240000', 'name': u'Prop. Nusa Tenggara Timur'},\n",
       " {'code': '250000', 'name': u'Prop. Papua'},\n",
       " {'code': '320000', 'name': u'Prop. Papua Barat'},\n",
       " {'code': '090000', 'name': u'Prop. Riau'},\n",
       " {'code': '330000', 'name': u'Prop. Sulawesi Barat'},\n",
       " {'code': '190000', 'name': u'Prop. Sulawesi Selatan'},\n",
       " {'code': '180000', 'name': u'Prop. Sulawesi Tengah'},\n",
       " {'code': '200000', 'name': u'Prop. Sulawesi Tenggara'},\n",
       " {'code': '170000', 'name': u'Prop. Sulawesi Utara'}]"
      ]
     },
     "execution_count": 3,
     "metadata": {},
     "output_type": "execute_result"
    }
   ],
   "source": [
    "list_daerah=[]\n",
    "for opt in mastersoup.find_all('option'):\n",
    "    daerah={}\n",
    "    sc_code = opt.get('value')\n",
    "    if sc_code:\n",
    "        daerah[\"code\"]=sc_code\n",
    "        daerah[\"name\"]=''.join(opt.findAll(text=True))\n",
    "        list_daerah.append(daerah)\n",
    "list_daerah = list_daerah[:-8]\n",
    "list_daerah"
   ]
  },
  {
   "cell_type": "code",
   "execution_count": 6,
   "metadata": {
    "collapsed": false
   },
   "outputs": [
    {
     "data": {
      "text/plain": [
       "['060000',\n",
       " '220000',\n",
       " '290000',\n",
       " '280000',\n",
       " '260000',\n",
       " '040000',\n",
       " '010000',\n",
       " '300000',\n",
       " '100000',\n",
       " '020000',\n",
       " '030000',\n",
       " '050000',\n",
       " '130000',\n",
       " '150000',\n",
       " '140000',\n",
       " '160000',\n",
       " '340000',\n",
       " '310000',\n",
       " '120000',\n",
       " '210000',\n",
       " '270000',\n",
       " '230000',\n",
       " '240000',\n",
       " '250000',\n",
       " '320000',\n",
       " '090000',\n",
       " '330000',\n",
       " '190000',\n",
       " '180000',\n",
       " '200000',\n",
       " '170000']"
      ]
     },
     "execution_count": 6,
     "metadata": {},
     "output_type": "execute_result"
    }
   ],
   "source": [
    "codelist = [item['code'] for item in list_daerah]\n",
    "codelist"
   ]
  },
  {
   "cell_type": "markdown",
   "metadata": {},
   "source": [
    "Scrape marker in the response"
   ]
  },
  {
   "cell_type": "code",
   "execution_count": 13,
   "metadata": {
    "collapsed": false
   },
   "outputs": [],
   "source": [
    "#test: jakarta, SD\n",
    "URL = \"http://sekolah.data.kemdikbud.go.id/index.php/cpetasebaran/index/\"\n",
    "f = urllib.urlopen(\"http://sekolah.data.kemdikbud.go.id/index.php/cpetasebaran/index/020000/SD\") \n",
    "soup = BeautifulSoup(f)\n",
    "#sc = soup.find_all('script')\n",
    "#sc"
   ]
  },
  {
   "cell_type": "code",
   "execution_count": 24,
   "metadata": {
    "collapsed": false
   },
   "outputs": [],
   "source": [
    "sc = soup.title.string\n",
    "if not sc == \"Database Error\":\n",
    "    print(\"\")"
   ]
  },
  {
   "cell_type": "code",
   "execution_count": 6,
   "metadata": {
    "collapsed": false
   },
   "outputs": [],
   "source": [
    "sc_c = sc.strip(' \\t\\n\\r').split(\";\")\n",
    "sc_arr = []\n",
    "for s in sc_c:\n",
    "    sc_arr.append(s.strip(' \\t\\n\\r'))"
   ]
  },
  {
   "cell_type": "code",
   "execution_count": 7,
   "metadata": {
    "collapsed": false
   },
   "outputs": [],
   "source": [
    "sc_name=[]\n",
    "sc_latlong=[]\n",
    "for line in sc_arr:\n",
    "    school={}\n",
    "    if \"NPSN\" in line:\n",
    "        #url\n",
    "        school[\"url\"] = line.split(\"=\")[7][25:61]\n",
    "        #NPSN\n",
    "        school[\"npsn\"]= line.split(\"=\")[5][36:44]\n",
    "        #nama\n",
    "        sc_str = line.split(\"=\")[8]\n",
    "        school[\"name\"] = sc_str[9:sc_str.find(\"</a\")] \n",
    "        sc_name.append(school)   \n",
    "    if \"latLng\" in line:\n",
    "        latlng = line.split(\"ng(\")[1][0:20].split(\",\")\n",
    "        school[\"lat\"] = latlng[0]\n",
    "        school[\"long\"] = latlng[1]\n",
    "        sc_latlong.append(school)\n",
    "#merge two dict list\n",
    "for n, l in zip(sc_name,sc_latlong):\n",
    "    n.update(l)"
   ]
  },
  {
   "cell_type": "markdown",
   "metadata": {},
   "source": [
    "load into pandas dataframe"
   ]
  },
  {
   "cell_type": "code",
   "execution_count": 8,
   "metadata": {
    "collapsed": false
   },
   "outputs": [],
   "source": [
    "d = pd.DataFrame.from_dict(sc_name)"
   ]
  },
  {
   "cell_type": "code",
   "execution_count": 9,
   "metadata": {
    "collapsed": false
   },
   "outputs": [
    {
     "data": {
      "text/html": [
       "<div>\n",
       "<table border=\"1\" class=\"dataframe\">\n",
       "  <thead>\n",
       "    <tr style=\"text-align: right;\">\n",
       "      <th></th>\n",
       "      <th>lat</th>\n",
       "      <th>long</th>\n",
       "      <th>name</th>\n",
       "      <th>npsn</th>\n",
       "      <th>url</th>\n",
       "    </tr>\n",
       "  </thead>\n",
       "  <tbody>\n",
       "    <tr>\n",
       "      <th>0</th>\n",
       "      <td>.9590000</td>\n",
       "      <td>112.9798000</td>\n",
       "      <td>SD NEGERI 29 TANJUNG JATI</td>\n",
       "      <td>30103050</td>\n",
       "      <td>A0EA3E8E-13B5-E111-A5F1-43EF2009C94F</td>\n",
       "    </tr>\n",
       "    <tr>\n",
       "      <th>1</th>\n",
       "      <td>1.3384000</td>\n",
       "      <td>113.343500</td>\n",
       "      <td>SD NEGERI 05 KENEPAI KOMPLEK</td>\n",
       "      <td>30103216</td>\n",
       "      <td>C0EC0D09-30F5-E011-BB31-77ED21DFD3A0</td>\n",
       "    </tr>\n",
       "    <tr>\n",
       "      <th>2</th>\n",
       "      <td>.2571000</td>\n",
       "      <td>110.0809000</td>\n",
       "      <td>SD NEGERI 54 SENDAUN</td>\n",
       "      <td>30104473</td>\n",
       "      <td>C0024309-30F5-E011-887A-FB1D0F86FC3B</td>\n",
       "    </tr>\n",
       "    <tr>\n",
       "      <th>3</th>\n",
       "      <td>-.0411000</td>\n",
       "      <td>110.370300</td>\n",
       "      <td>SD NEGERI 15 MELOBOH</td>\n",
       "      <td>30102162</td>\n",
       "      <td>709FED08-30F5-E011-8423-AFA413B369AC</td>\n",
       "    </tr>\n",
       "    <tr>\n",
       "      <th>4</th>\n",
       "      <td>.6046000</td>\n",
       "      <td>112.6671000</td>\n",
       "      <td>SD NEGERI 19 SIMPANG 4 NANGA SURUK</td>\n",
       "      <td>30102957</td>\n",
       "      <td>20C90509-30F5-E011-BFD5-CD46218A8A79</td>\n",
       "    </tr>\n",
       "  </tbody>\n",
       "</table>\n",
       "</div>"
      ],
      "text/plain": [
       "         lat         long                                name      npsn  \\\n",
       "0   .9590000  112.9798000           SD NEGERI 29 TANJUNG JATI  30103050   \n",
       "1  1.3384000   113.343500        SD NEGERI 05 KENEPAI KOMPLEK  30103216   \n",
       "2   .2571000  110.0809000                SD NEGERI 54 SENDAUN  30104473   \n",
       "3  -.0411000   110.370300                SD NEGERI 15 MELOBOH  30102162   \n",
       "4   .6046000  112.6671000  SD NEGERI 19 SIMPANG 4 NANGA SURUK  30102957   \n",
       "\n",
       "                                    url  \n",
       "0  A0EA3E8E-13B5-E111-A5F1-43EF2009C94F  \n",
       "1  C0EC0D09-30F5-E011-BB31-77ED21DFD3A0  \n",
       "2  C0024309-30F5-E011-887A-FB1D0F86FC3B  \n",
       "3  709FED08-30F5-E011-8423-AFA413B369AC  \n",
       "4  20C90509-30F5-E011-BFD5-CD46218A8A79  "
      ]
     },
     "execution_count": 9,
     "metadata": {},
     "output_type": "execute_result"
    }
   ],
   "source": [
    "d.head()"
   ]
  },
  {
   "cell_type": "code",
   "execution_count": 10,
   "metadata": {
    "collapsed": false
   },
   "outputs": [
    {
     "data": {
      "text/html": [
       "<div>\n",
       "<table border=\"1\" class=\"dataframe\">\n",
       "  <thead>\n",
       "    <tr style=\"text-align: right;\">\n",
       "      <th></th>\n",
       "      <th>lat</th>\n",
       "      <th>long</th>\n",
       "      <th>name</th>\n",
       "      <th>npsn</th>\n",
       "      <th>url</th>\n",
       "      <th>level</th>\n",
       "    </tr>\n",
       "  </thead>\n",
       "  <tbody>\n",
       "    <tr>\n",
       "      <th>0</th>\n",
       "      <td>.9590000</td>\n",
       "      <td>112.9798000</td>\n",
       "      <td>SD NEGERI 29 TANJUNG JATI</td>\n",
       "      <td>30103050</td>\n",
       "      <td>A0EA3E8E-13B5-E111-A5F1-43EF2009C94F</td>\n",
       "      <td>SD</td>\n",
       "    </tr>\n",
       "    <tr>\n",
       "      <th>1</th>\n",
       "      <td>1.3384000</td>\n",
       "      <td>113.343500</td>\n",
       "      <td>SD NEGERI 05 KENEPAI KOMPLEK</td>\n",
       "      <td>30103216</td>\n",
       "      <td>C0EC0D09-30F5-E011-BB31-77ED21DFD3A0</td>\n",
       "      <td>SD</td>\n",
       "    </tr>\n",
       "    <tr>\n",
       "      <th>2</th>\n",
       "      <td>.2571000</td>\n",
       "      <td>110.0809000</td>\n",
       "      <td>SD NEGERI 54 SENDAUN</td>\n",
       "      <td>30104473</td>\n",
       "      <td>C0024309-30F5-E011-887A-FB1D0F86FC3B</td>\n",
       "      <td>SD</td>\n",
       "    </tr>\n",
       "    <tr>\n",
       "      <th>3</th>\n",
       "      <td>-.0411000</td>\n",
       "      <td>110.370300</td>\n",
       "      <td>SD NEGERI 15 MELOBOH</td>\n",
       "      <td>30102162</td>\n",
       "      <td>709FED08-30F5-E011-8423-AFA413B369AC</td>\n",
       "      <td>SD</td>\n",
       "    </tr>\n",
       "    <tr>\n",
       "      <th>4</th>\n",
       "      <td>.6046000</td>\n",
       "      <td>112.6671000</td>\n",
       "      <td>SD NEGERI 19 SIMPANG 4 NANGA SURUK</td>\n",
       "      <td>30102957</td>\n",
       "      <td>20C90509-30F5-E011-BFD5-CD46218A8A79</td>\n",
       "      <td>SD</td>\n",
       "    </tr>\n",
       "  </tbody>\n",
       "</table>\n",
       "</div>"
      ],
      "text/plain": [
       "         lat         long                                name      npsn  \\\n",
       "0   .9590000  112.9798000           SD NEGERI 29 TANJUNG JATI  30103050   \n",
       "1  1.3384000   113.343500        SD NEGERI 05 KENEPAI KOMPLEK  30103216   \n",
       "2   .2571000  110.0809000                SD NEGERI 54 SENDAUN  30104473   \n",
       "3  -.0411000   110.370300                SD NEGERI 15 MELOBOH  30102162   \n",
       "4   .6046000  112.6671000  SD NEGERI 19 SIMPANG 4 NANGA SURUK  30102957   \n",
       "\n",
       "                                    url level  \n",
       "0  A0EA3E8E-13B5-E111-A5F1-43EF2009C94F    SD  \n",
       "1  C0EC0D09-30F5-E011-BB31-77ED21DFD3A0    SD  \n",
       "2  C0024309-30F5-E011-887A-FB1D0F86FC3B    SD  \n",
       "3  709FED08-30F5-E011-8423-AFA413B369AC    SD  \n",
       "4  20C90509-30F5-E011-BFD5-CD46218A8A79    SD  "
      ]
     },
     "execution_count": 10,
     "metadata": {},
     "output_type": "execute_result"
    }
   ],
   "source": [
    "d['level'] = \"SD\"\n",
    "#d_smp['level'] = \"SMP\"\n",
    "#d_sma['level'] = \"SMA\"\n",
    "#d_smk['level'] = \"SMK\"\n",
    "#d_all = pd.concat([d,d_smp,d_sma,d_smk])\n",
    "d.head()"
   ]
  },
  {
   "cell_type": "code",
   "execution_count": 52,
   "metadata": {
    "collapsed": true
   },
   "outputs": [],
   "source": [
    "#assuming separate dataframe are made for each level\n",
    "d_all = pd.concat([d,d_smp,d_sma,d_smk])"
   ]
  },
  {
   "cell_type": "code",
   "execution_count": 11,
   "metadata": {
    "collapsed": true
   },
   "outputs": [],
   "source": [
    "d.to_csv(\"kalbar.csv\")"
   ]
  },
  {
   "cell_type": "code",
   "execution_count": null,
   "metadata": {
    "collapsed": true
   },
   "outputs": [],
   "source": []
  }
 ],
 "metadata": {
  "kernelspec": {
   "display_name": "Python 2",
   "language": "python",
   "name": "python2"
  },
  "language_info": {
   "codemirror_mode": {
    "name": "ipython",
    "version": 2
   },
   "file_extension": ".py",
   "mimetype": "text/x-python",
   "name": "python",
   "nbconvert_exporter": "python",
   "pygments_lexer": "ipython2",
   "version": "2.7.10"
  }
 },
 "nbformat": 4,
 "nbformat_minor": 0
}
