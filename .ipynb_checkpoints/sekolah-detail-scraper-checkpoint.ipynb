{
 "cells": [
  {
   "cell_type": "code",
   "execution_count": 1,
   "metadata": {
    "collapsed": true
   },
   "outputs": [],
   "source": [
    "URL = \"http://sekolah.data.kemdikbud.go.id/index.php/chome/profil/8087D190-2EF5-E011-A099-593E675081E7\""
   ]
  },
  {
   "cell_type": "code",
   "execution_count": 2,
   "metadata": {
    "collapsed": false
   },
   "outputs": [
    {
     "name": "stderr",
     "output_type": "stream",
     "text": [
      "C:\\Anaconda2\\lib\\site-packages\\pandas\\computation\\__init__.py:19: UserWarning: The installed version of numexpr 2.4.4 is not supported in pandas and will be not be used\n",
      "\n",
      "  UserWarning)\n"
     ]
    }
   ],
   "source": [
    "import urllib\n",
    "from bs4 import BeautifulSoup\n",
    "import pandas as pd"
   ]
  },
  {
   "cell_type": "code",
   "execution_count": 6,
   "metadata": {
    "collapsed": false
   },
   "outputs": [],
   "source": [
    "master = urllib.urlopen(URL)\n",
    "mastersoup = BeautifulSoup(master)"
   ]
  },
  {
   "cell_type": "code",
   "execution_count": 52,
   "metadata": {
    "collapsed": false
   },
   "outputs": [
    {
     "name": "stdout",
     "output_type": "stream",
     "text": [
      "{u'SanitasiSiswa': u'1', u'LuasTanah': u'2,249M\\xb2', u'Guru': u'18', u'SemesterAktif': u'2015/2016-2', u'DayaListrik': u'900', u'SiswaPerempuan': u'76', u'Perpustakaan': u'2', u'RombonganBelajar': u'6', u'AksesInternet': u'', u'RuangKelas': u'6', u'WaktuPenyelenggaraan': u'Pagi', u'Kurikulum': u'KTSP', u'SumberListrik': u'', u'SiswaLaki-laki': u'76', u'ManajemenBerbasisSekolah': u'', u'Laboratorium': u'0'}\n"
     ]
    }
   ],
   "source": [
    "#col-xs-12 col-md-3 text-left\n",
    "info = {}\n",
    "for a in mastersoup.find_all(\"div\", class_=\"col-xs-12 col-md-3 text-left\"):\n",
    "    for b in a.text.splitlines(): \n",
    "            s =  b.strip().replace(\" \", \"\")\n",
    "            if s != \"\":\n",
    "                #print count\n",
    "                t = \" \".join(s.split()).replace(\" \", \"\").split(\":\")\n",
    "                for (k,v) in zip(t[0:][::2],t[1:][::2]):\n",
    "                    info[k]=v\n",
    "print info"
   ]
  },
  {
   "cell_type": "code",
   "execution_count": 11,
   "metadata": {
    "collapsed": false
   },
   "outputs": [
    {
     "data": {
      "text/plain": [
       "[<div class=\"col-xs-12 col-md-3 text-left\" style=\"border-right: 2px solid #31708f\">\\n<i class=\"glyphicon glyphicon-user\"></i> Guru : <font class=\"text-info\">18</font><br/>\\n<i class=\"fa fa-user\"></i>\\xa0\\xa0Siswa Laki-laki : <font class=\"text-info\">76</font><br/>\\n<i class=\"fa fa-user\"></i>\\xa0\\xa0Siswa Perempuan : <font class=\"text-info\">76</font><br/>\\n<i class=\"glyphicon glyphicon-list-alt\"></i> Rombongan Belajar : <font class=\"text-info\">6</font><br/>\\r\\n\\t\\t\\t\\t\\t\\t\\t\\xa0\\r\\n\\t\\t\\t\\t\\t\\t</div>,\n",
       " <div class=\"col-xs-12 col-md-3 text-left\" style=\"border-right: 2px solid #31708f\">\\n<i class=\"glyphicon glyphicon-education\"></i> Kurikulum : <font class=\"text-info\">KTSP</font><br/>\\n<i class=\"glyphicon glyphicon-globe\"></i> Waktu Penyelenggaraan : \\t\\t\\t\\t\\t\\t\\t\\t<font class=\"text-info\">Pagi</font>\\n<br/>\\n<i class=\"glyphicon glyphicon-cog\"></i> Manajemen Berbasis Sekolah : <i class=\"glyphicon glyphicon-unchecked text-red\"></i><br/>\\n<i class=\"glyphicon glyphicon-cog\"></i> Semester Aktif : <font class=\"text-info\">2015/2016-2</font><br/>\\r\\n\\t\\t\\t\\t\\t\\t\\t\\xa0\\r\\n\\t\\t\\t\\t\\t\\t</div>,\n",
       " <div class=\"col-xs-12 col-md-3 text-left\" style=\"border-right: 2px solid #31708f\">\\n<i class=\"glyphicon glyphicon-signal\"></i> Akses Internet : <i class=\"glyphicon glyphicon-check text-info\"></i><br/>\\n<i class=\"glyphicon glyphicon-flash\"></i> Sumber Listrik : <i class=\"glyphicon glyphicon-check text-info\"></i><br/>\\n<i class=\"glyphicon glyphicon-flash\"></i> Daya Listrik : <font class=\"text-info\">900</font><br/>\\n<i class=\"glyphicon glyphicon-globe\"></i> Luas Tanah : <font class=\"text-info\">2,249</font> M\\xb2<br/>\\r\\n\\t\\t\\t\\t\\t\\t\\t\\xa0\\r\\n\\t\\t\\t\\t\\t\\t</div>,\n",
       " <div class=\"col-xs-12 col-md-3 text-left\">\\n<i class=\"glyphicon glyphicon-stop\"></i> Ruang Kelas : <font class=\"text-info\">6</font><br/>\\n<i class=\"glyphicon glyphicon-tint\"></i> Laboratorium : <font class=\"text-info\">0</font><br/>\\n<i class=\"glyphicon glyphicon-book\"></i> Perpustakaan : <font class=\"text-info\">2</font><br/>\\n<i class=\"glyphicon glyphicon-hand-right\"></i> Sanitasi Siswa : <font class=\"text-info\">1</font><br/>\\r\\n\\t\\t\\t\\t\\t\\t\\t\\xa0\\r\\n\\t\\t\\t\\t\\t\\t</div>]"
      ]
     },
     "execution_count": 11,
     "metadata": {},
     "output_type": "execute_result"
    }
   ],
   "source": [
    "a"
   ]
  },
  {
   "cell_type": "code",
   "execution_count": null,
   "metadata": {
    "collapsed": true
   },
   "outputs": [],
   "source": []
  }
 ],
 "metadata": {
  "kernelspec": {
   "display_name": "Python 2",
   "language": "python",
   "name": "python2"
  },
  "language_info": {
   "codemirror_mode": {
    "name": "ipython",
    "version": 2
   },
   "file_extension": ".py",
   "mimetype": "text/x-python",
   "name": "python",
   "nbconvert_exporter": "python",
   "pygments_lexer": "ipython2",
   "version": "2.7.10"
  }
 },
 "nbformat": 4,
 "nbformat_minor": 0
}
