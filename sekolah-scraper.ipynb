{
 "cells": [
  {
   "cell_type": "markdown",
   "metadata": {},
   "source": [
    "##Data Kemdikbud scraper\n",
    "Because somehow they make it very painful to just download the data."
   ]
  },
  {
   "cell_type": "code",
   "execution_count": 1,
   "metadata": {
    "collapsed": false
   },
   "outputs": [
    {
     "name": "stderr",
     "output_type": "stream",
     "text": [
      "C:\\Anaconda2\\lib\\site-packages\\pandas\\computation\\__init__.py:19: UserWarning: The installed version of numexpr 2.4.4 is not supported in pandas and will be not be used\n",
      "\n",
      "  UserWarning)\n"
     ]
    }
   ],
   "source": [
    "import urllib\n",
    "from bs4 import BeautifulSoup\n",
    "import pandas as pd"
   ]
  },
  {
   "cell_type": "markdown",
   "metadata": {},
   "source": [
    "Get list of kabupaten/kota"
   ]
  },
  {
   "cell_type": "code",
   "execution_count": 21,
   "metadata": {
    "collapsed": false
   },
   "outputs": [],
   "source": [
    "master = urllib.urlopen(\"http://sekolah.data.kemdikbud.go.id/index.php/cpetasebaran/index/000000/\")\n",
    "mastersoup = BeautifulSoup(master)"
   ]
  },
  {
   "cell_type": "code",
   "execution_count": 22,
   "metadata": {
    "collapsed": false
   },
   "outputs": [
    {
     "data": {
      "text/plain": [
       "[{'code': '060000', 'name': u'Prop. Aceh'},\n",
       " {'code': '220000', 'name': u'Prop. Bali'},\n",
       " {'code': '290000', 'name': u'Prop. Bangka Belitung'},\n",
       " {'code': '280000', 'name': u'Prop. Banten'},\n",
       " {'code': '260000', 'name': u'Prop. Bengkulu'},\n",
       " {'code': '040000', 'name': u'Prop. D.I. Yogyakarta'},\n",
       " {'code': '010000', 'name': u'Prop. D.K.I. Jakarta'},\n",
       " {'code': '300000', 'name': u'Prop. Gorontalo'},\n",
       " {'code': '100000', 'name': u'Prop. Jambi'},\n",
       " {'code': '020000', 'name': u'Prop. Jawa Barat'},\n",
       " {'code': '030000', 'name': u'Prop. Jawa Tengah'},\n",
       " {'code': '050000', 'name': u'Prop. Jawa Timur'},\n",
       " {'code': '130000', 'name': u'Prop. Kalimantan Barat'},\n",
       " {'code': '150000', 'name': u'Prop. Kalimantan Selatan'},\n",
       " {'code': '140000', 'name': u'Prop. Kalimantan Tengah'},\n",
       " {'code': '160000', 'name': u'Prop. Kalimantan Timur'},\n",
       " {'code': '340000', 'name': u'Prop. Kalimantan Utara'},\n",
       " {'code': '310000', 'name': u'Prop. Kepulauan Riau'},\n",
       " {'code': '120000', 'name': u'Prop. Lampung'},\n",
       " {'code': '210000', 'name': u'Prop. Maluku'},\n",
       " {'code': '270000', 'name': u'Prop. Maluku Utara'},\n",
       " {'code': '230000', 'name': u'Prop. Nusa Tenggara Barat'},\n",
       " {'code': '240000', 'name': u'Prop. Nusa Tenggara Timur'},\n",
       " {'code': '250000', 'name': u'Prop. Papua'},\n",
       " {'code': '320000', 'name': u'Prop. Papua Barat'},\n",
       " {'code': '090000', 'name': u'Prop. Riau'},\n",
       " {'code': '330000', 'name': u'Prop. Sulawesi Barat'},\n",
       " {'code': '190000', 'name': u'Prop. Sulawesi Selatan'},\n",
       " {'code': '180000', 'name': u'Prop. Sulawesi Tengah'},\n",
       " {'code': '200000', 'name': u'Prop. Sulawesi Tenggara'},\n",
       " {'code': '170000', 'name': u'Prop. Sulawesi Utara'}]"
      ]
     },
     "execution_count": 22,
     "metadata": {},
     "output_type": "execute_result"
    }
   ],
   "source": [
    "list_daerah=[]\n",
    "for opt in mastersoup.find_all('option'):\n",
    "    daerah={}\n",
    "    sc_code = opt.get('value')\n",
    "    if sc_code:\n",
    "        daerah[\"code\"]=sc_code\n",
    "        daerah[\"name\"]=''.join(opt.findAll(text=True))\n",
    "        list_daerah.append(daerah)\n",
    "list_daerah = list_daerah[:-8]\n",
    "list_daerah"
   ]
  },
  {
   "cell_type": "markdown",
   "metadata": {},
   "source": [
    "Scrape marker in the response"
   ]
  },
  {
   "cell_type": "code",
   "execution_count": 43,
   "metadata": {
    "collapsed": false
   },
   "outputs": [],
   "source": [
    "#test: jakarta, SD\n",
    "f = urllib.urlopen(\"http://sekolah.data.kemdikbud.go.id/index.php/cpetasebaran/index/010000/SD\") \n",
    "soup = BeautifulSoup(f)\n",
    "sc = soup.find_all('script')[21].string"
   ]
  },
  {
   "cell_type": "code",
   "execution_count": 44,
   "metadata": {
    "collapsed": false
   },
   "outputs": [],
   "source": [
    "sc_c = sc.strip(' \\t\\n\\r').split(\";\")\n",
    "sc_arr = []\n",
    "for s in sc_c:\n",
    "    sc_arr.append(s.strip(' \\t\\n\\r'))"
   ]
  },
  {
   "cell_type": "code",
   "execution_count": 45,
   "metadata": {
    "collapsed": false
   },
   "outputs": [],
   "source": [
    "sc_name=[]\n",
    "sc_latlong=[]\n",
    "for line in sc_arr:\n",
    "    school={}\n",
    "    if \"NPSN\" in line:\n",
    "        #url\n",
    "        school[\"url\"] = line.split(\"=\")[7][25:61]\n",
    "        #NPSN\n",
    "        school[\"npsn\"]= line.split(\"=\")[5][36:44]\n",
    "        #nama\n",
    "        sc_str = line.split(\"=\")[8]\n",
    "        school[\"name\"] = sc_str[9:sc_str.find(\"</a\")] \n",
    "        sc_name.append(school)   \n",
    "    if \"latLng\" in line:\n",
    "        latlng = line.split(\"ng(\")[1][0:20].split(\",\")\n",
    "        school[\"lat\"] = latlng[0]\n",
    "        school[\"long\"] = latlng[1]\n",
    "        sc_latlong.append(school)\n",
    "#merge two dict list\n",
    "for n, l in zip(sc_name,sc_latlong):\n",
    "    n.update(l)"
   ]
  },
  {
   "cell_type": "markdown",
   "metadata": {},
   "source": [
    "load into pandas dataframe"
   ]
  },
  {
   "cell_type": "code",
   "execution_count": 29,
   "metadata": {
    "collapsed": false
   },
   "outputs": [],
   "source": [
    "d = pd.DataFrame.from_dict(sc_name)"
   ]
  },
  {
   "cell_type": "code",
   "execution_count": 33,
   "metadata": {
    "collapsed": false
   },
   "outputs": [
    {
     "data": {
      "text/html": [
       "<div>\n",
       "<table border=\"1\" class=\"dataframe\">\n",
       "  <thead>\n",
       "    <tr style=\"text-align: right;\">\n",
       "      <th></th>\n",
       "      <th>lat</th>\n",
       "      <th>long</th>\n",
       "      <th>name</th>\n",
       "      <th>npsn</th>\n",
       "      <th>url</th>\n",
       "    </tr>\n",
       "  </thead>\n",
       "  <tbody>\n",
       "    <tr>\n",
       "      <th>0</th>\n",
       "      <td>-6.2582000</td>\n",
       "      <td>106.77620</td>\n",
       "      <td>SDN Kebayoran Lama Selatan 09 Pagi</td>\n",
       "      <td>20105964</td>\n",
       "      <td>809DE594-2BF5-E011-8E05-672CC87BAF72</td>\n",
       "    </tr>\n",
       "    <tr>\n",
       "      <th>1</th>\n",
       "      <td>-6.1650000</td>\n",
       "      <td>106.72820</td>\n",
       "      <td>SD NEGERI RAWA BUAYA 03 PG</td>\n",
       "      <td>20105474</td>\n",
       "      <td>E0CCD094-2BF5-E011-BE6F-D5744B4E5D2A</td>\n",
       "    </tr>\n",
       "    <tr>\n",
       "      <th>2</th>\n",
       "      <td>-6.2465000</td>\n",
       "      <td>106.76800</td>\n",
       "      <td>SD NEGERI ULUJAMI 01 PAGI</td>\n",
       "      <td>20102196</td>\n",
       "      <td>20BCE294-2BF5-E011-8A6A-E1606F111B44</td>\n",
       "    </tr>\n",
       "    <tr>\n",
       "      <th>3</th>\n",
       "      <td>-6.2408000</td>\n",
       "      <td>106.88140</td>\n",
       "      <td>SD NEGERI CIPINANG CEMPEDAK 04</td>\n",
       "      <td>20108523</td>\n",
       "      <td>C0F40595-2BF5-E011-98BF-23D5A0CA8166</td>\n",
       "    </tr>\n",
       "    <tr>\n",
       "      <th>4</th>\n",
       "      <td>-6.2362000</td>\n",
       "      <td>106.77230</td>\n",
       "      <td>SDN Grogol Utara 15 Petang.</td>\n",
       "      <td>20105918</td>\n",
       "      <td>8041E594-2BF5-E011-848B-D7583B02BDF0</td>\n",
       "    </tr>\n",
       "  </tbody>\n",
       "</table>\n",
       "</div>"
      ],
      "text/plain": [
       "          lat       long                                name      npsn  \\\n",
       "0  -6.2582000  106.77620  SDN Kebayoran Lama Selatan 09 Pagi  20105964   \n",
       "1  -6.1650000  106.72820          SD NEGERI RAWA BUAYA 03 PG  20105474   \n",
       "2  -6.2465000  106.76800           SD NEGERI ULUJAMI 01 PAGI  20102196   \n",
       "3  -6.2408000  106.88140      SD NEGERI CIPINANG CEMPEDAK 04  20108523   \n",
       "4  -6.2362000  106.77230         SDN Grogol Utara 15 Petang.  20105918   \n",
       "\n",
       "                                    url  \n",
       "0  809DE594-2BF5-E011-8E05-672CC87BAF72  \n",
       "1  E0CCD094-2BF5-E011-BE6F-D5744B4E5D2A  \n",
       "2  20BCE294-2BF5-E011-8A6A-E1606F111B44  \n",
       "3  C0F40595-2BF5-E011-98BF-23D5A0CA8166  \n",
       "4  8041E594-2BF5-E011-848B-D7583B02BDF0  "
      ]
     },
     "execution_count": 33,
     "metadata": {},
     "output_type": "execute_result"
    }
   ],
   "source": [
    "d.head()"
   ]
  },
  {
   "cell_type": "code",
   "execution_count": 51,
   "metadata": {
    "collapsed": false
   },
   "outputs": [
    {
     "data": {
      "text/html": [
       "<div>\n",
       "<table border=\"1\" class=\"dataframe\">\n",
       "  <thead>\n",
       "    <tr style=\"text-align: right;\">\n",
       "      <th></th>\n",
       "      <th>lat</th>\n",
       "      <th>long</th>\n",
       "      <th>name</th>\n",
       "      <th>npsn</th>\n",
       "      <th>url</th>\n",
       "      <th>level</th>\n",
       "    </tr>\n",
       "  </thead>\n",
       "  <tbody>\n",
       "    <tr>\n",
       "      <th>0</th>\n",
       "      <td>-6.2582000</td>\n",
       "      <td>106.77620</td>\n",
       "      <td>SDN Kebayoran Lama Selatan 09 Pagi</td>\n",
       "      <td>20105964</td>\n",
       "      <td>809DE594-2BF5-E011-8E05-672CC87BAF72</td>\n",
       "      <td>SD</td>\n",
       "    </tr>\n",
       "    <tr>\n",
       "      <th>1</th>\n",
       "      <td>-6.1650000</td>\n",
       "      <td>106.72820</td>\n",
       "      <td>SD NEGERI RAWA BUAYA 03 PG</td>\n",
       "      <td>20105474</td>\n",
       "      <td>E0CCD094-2BF5-E011-BE6F-D5744B4E5D2A</td>\n",
       "      <td>SD</td>\n",
       "    </tr>\n",
       "    <tr>\n",
       "      <th>2</th>\n",
       "      <td>-6.2465000</td>\n",
       "      <td>106.76800</td>\n",
       "      <td>SD NEGERI ULUJAMI 01 PAGI</td>\n",
       "      <td>20102196</td>\n",
       "      <td>20BCE294-2BF5-E011-8A6A-E1606F111B44</td>\n",
       "      <td>SD</td>\n",
       "    </tr>\n",
       "    <tr>\n",
       "      <th>3</th>\n",
       "      <td>-6.2408000</td>\n",
       "      <td>106.88140</td>\n",
       "      <td>SD NEGERI CIPINANG CEMPEDAK 04</td>\n",
       "      <td>20108523</td>\n",
       "      <td>C0F40595-2BF5-E011-98BF-23D5A0CA8166</td>\n",
       "      <td>SD</td>\n",
       "    </tr>\n",
       "    <tr>\n",
       "      <th>4</th>\n",
       "      <td>-6.2362000</td>\n",
       "      <td>106.77230</td>\n",
       "      <td>SDN Grogol Utara 15 Petang.</td>\n",
       "      <td>20105918</td>\n",
       "      <td>8041E594-2BF5-E011-848B-D7583B02BDF0</td>\n",
       "      <td>SD</td>\n",
       "    </tr>\n",
       "  </tbody>\n",
       "</table>\n",
       "</div>"
      ],
      "text/plain": [
       "          lat       long                                name      npsn  \\\n",
       "0  -6.2582000  106.77620  SDN Kebayoran Lama Selatan 09 Pagi  20105964   \n",
       "1  -6.1650000  106.72820          SD NEGERI RAWA BUAYA 03 PG  20105474   \n",
       "2  -6.2465000  106.76800           SD NEGERI ULUJAMI 01 PAGI  20102196   \n",
       "3  -6.2408000  106.88140      SD NEGERI CIPINANG CEMPEDAK 04  20108523   \n",
       "4  -6.2362000  106.77230         SDN Grogol Utara 15 Petang.  20105918   \n",
       "\n",
       "                                    url level  \n",
       "0  809DE594-2BF5-E011-8E05-672CC87BAF72    SD  \n",
       "1  E0CCD094-2BF5-E011-BE6F-D5744B4E5D2A    SD  \n",
       "2  20BCE294-2BF5-E011-8A6A-E1606F111B44    SD  \n",
       "3  C0F40595-2BF5-E011-98BF-23D5A0CA8166    SD  \n",
       "4  8041E594-2BF5-E011-848B-D7583B02BDF0    SD  "
      ]
     },
     "execution_count": 51,
     "metadata": {},
     "output_type": "execute_result"
    }
   ],
   "source": [
    "d['level'] = \"SD\"\n",
    "#d_smp['level'] = \"SMP\"\n",
    "#d_sma['level'] = \"SMA\"\n",
    "#d_smk['level'] = \"SMK\"\n",
    "#d_all = pd.concat([d,d_smp,d_sma,d_smk])\n",
    "d.head()"
   ]
  },
  {
   "cell_type": "code",
   "execution_count": 52,
   "metadata": {
    "collapsed": true
   },
   "outputs": [],
   "source": [
    "#assuming separate dataframe are made for each level\n",
    "d_all = pd.concat([d,d_smp,d_sma,d_smk])"
   ]
  },
  {
   "cell_type": "code",
   "execution_count": 53,
   "metadata": {
    "collapsed": true
   },
   "outputs": [],
   "source": [
    "d_all.to_csv(\"jakarta.csv\")"
   ]
  },
  {
   "cell_type": "code",
   "execution_count": null,
   "metadata": {
    "collapsed": true
   },
   "outputs": [],
   "source": []
  }
 ],
 "metadata": {
  "kernelspec": {
   "display_name": "Python 2",
   "language": "python",
   "name": "python2"
  },
  "language_info": {
   "codemirror_mode": {
    "name": "ipython",
    "version": 2
   },
   "file_extension": ".py",
   "mimetype": "text/x-python",
   "name": "python",
   "nbconvert_exporter": "python",
   "pygments_lexer": "ipython2",
   "version": "2.7.10"
  }
 },
 "nbformat": 4,
 "nbformat_minor": 0
}
