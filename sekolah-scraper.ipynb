{
 "cells": [
  {
   "cell_type": "markdown",
   "metadata": {},
   "source": [
    "##Data Kemdikbud scraper\n",
    "Because somehow they make it very painful to just download the data."
   ]
  },
  {
   "cell_type": "code",
   "execution_count": 7,
   "metadata": {
    "collapsed": false
   },
   "outputs": [],
   "source": [
    "import urllib\n",
    "from bs4 import BeautifulSoup\n",
    "import pandas as pd"
   ]
  },
  {
   "cell_type": "markdown",
   "metadata": {},
   "source": [
    "Get list of kabupaten/kota"
   ]
  },
  {
   "cell_type": "code",
   "execution_count": 162,
   "metadata": {
    "collapsed": true
   },
   "outputs": [],
   "source": [
    "master = urllib.request.urlopen(\"http://sekolah.data.kemdikbud.go.id\")\n",
    "mastersoup = BeautifulSoup(master)"
   ]
  },
  {
   "cell_type": "code",
   "execution_count": 186,
   "metadata": {
    "collapsed": false
   },
   "outputs": [],
   "source": [
    "list_daerah=[]\n",
    "for opt in mastersoup.find_all('option'):\n",
    "    daerah={}\n",
    "    sc_code = opt.get('value')\n",
    "    if sc_code:\n",
    "        daerah[\"code\"]=sc_code\n",
    "        daerah[\"name\"]=''.join(opt.findAll(text=True))\n",
    "        list_daerah.append(daerah)\n",
    "list_daerah = list_daerah[:-8]"
   ]
  },
  {
   "cell_type": "markdown",
   "metadata": {},
   "source": [
    "Scrape marker in the response"
   ]
  },
  {
   "cell_type": "code",
   "execution_count": 36,
   "metadata": {
    "collapsed": false
   },
   "outputs": [],
   "source": [
    "f = urllib.request.urlopen(\"http://sekolah.data.kemdikbud.go.id/index.php/cpetasebaran/index/060000/SD\") \n",
    "soup = BeautifulSoup(f)\n",
    "sc = soup.find_all('script')[21].string"
   ]
  },
  {
   "cell_type": "code",
   "execution_count": 53,
   "metadata": {
    "collapsed": false
   },
   "outputs": [],
   "source": [
    "sc_c = sc.strip(' \\t\\n\\r').split(\";\")\n",
    "sc_arr = []\n",
    "for s in sc_c:\n",
    "    sc_arr.append(s.strip(' \\t\\n\\r'))"
   ]
  },
  {
   "cell_type": "code",
   "execution_count": 159,
   "metadata": {
    "collapsed": false
   },
   "outputs": [],
   "source": [
    "sc_name=[]\n",
    "sc_latlong=[]\n",
    "for line in sc_arr:\n",
    "    school={}\n",
    "    if \"NPSN\" in line:\n",
    "        #url\n",
    "        school[\"url\"] = line.split(\"=\")[7][25:61]\n",
    "        #NPSN\n",
    "        school[\"npsn\"]= line.split(\"=\")[5][36:44]\n",
    "        #nama\n",
    "        sc_str = line.split(\"=\")[8]\n",
    "        school[\"name\"] = sc_str[9:sc_str.find(\"</a\")] \n",
    "        sc_name.append(school)   \n",
    "    if \"latLng\" in line:\n",
    "        latlng = line.split(\"ng(\")[1][0:20].split(\",\")\n",
    "        school[\"lat\"] = latlng[0]\n",
    "        school[\"long\"] = latlng[1]\n",
    "        sc_latlong.append(school)\n",
    "#merge two dict list\n",
    "for n, l in zip(sc_name,sc_latlong):\n",
    "    n.update(l)"
   ]
  },
  {
   "cell_type": "markdown",
   "metadata": {},
   "source": [
    "load into pandas dataframe"
   ]
  },
  {
   "cell_type": "code",
   "execution_count": 157,
   "metadata": {
    "collapsed": false
   },
   "outputs": [],
   "source": [
    "d = pd.DataFrame.from_dict(sc_name)"
   ]
  },
  {
   "cell_type": "code",
   "execution_count": 161,
   "metadata": {
    "collapsed": false
   },
   "outputs": [
    {
     "data": {
      "text/html": [
       "<div>\n",
       "<table border=\"1\" class=\"dataframe\">\n",
       "  <thead>\n",
       "    <tr style=\"text-align: right;\">\n",
       "      <th></th>\n",
       "      <th>lat</th>\n",
       "      <th>long</th>\n",
       "      <th>name</th>\n",
       "      <th>npsn</th>\n",
       "      <th>url</th>\n",
       "    </tr>\n",
       "  </thead>\n",
       "  <tbody>\n",
       "    <tr>\n",
       "      <th>0</th>\n",
       "      <td>5.1132410</td>\n",
       "      <td>97.0603870</td>\n",
       "      <td>SD NEGERI 19 KUTA MAKMUR</td>\n",
       "      <td>10105952</td>\n",
       "      <td>80925090-2EF5-E011-9DF3-FFD26BD6754E</td>\n",
       "    </tr>\n",
       "    <tr>\n",
       "      <th>1</th>\n",
       "      <td>3.5467020</td>\n",
       "      <td>97.7791500</td>\n",
       "      <td>SD NEGERI 2 LAWE DUA</td>\n",
       "      <td>10103260</td>\n",
       "      <td>B0829A90-2EF5-E011-8B89-173ABE814591</td>\n",
       "    </tr>\n",
       "    <tr>\n",
       "      <th>2</th>\n",
       "      <td>5.0539000</td>\n",
       "      <td>97.1653000</td>\n",
       "      <td>SD NEGERI 8 SYAMTALIRA BAYU</td>\n",
       "      <td>10101021</td>\n",
       "      <td>B0A35190-2EF5-E011-84BA-05A827682935</td>\n",
       "    </tr>\n",
       "    <tr>\n",
       "      <th>3</th>\n",
       "      <td>3.4200000</td>\n",
       "      <td>97.0841000</td>\n",
       "      <td>SD NEGERI 2 LABUHAN HAJI</td>\n",
       "      <td>10102961</td>\n",
       "      <td>90F19690-2EF5-E011-A8CB-BD7296C30CBD</td>\n",
       "    </tr>\n",
       "    <tr>\n",
       "      <th>4</th>\n",
       "      <td>4.6173000</td>\n",
       "      <td>97.8364000</td>\n",
       "      <td>SDN SARAH TEUBE</td>\n",
       "      <td>10113616</td>\n",
       "      <td>B035B1BA-23F3-E111-BCF1-2500304F5375</td>\n",
       "    </tr>\n",
       "  </tbody>\n",
       "</table>\n",
       "</div>"
      ],
      "text/plain": [
       "         lat        long                         name      npsn  \\\n",
       "0  5.1132410  97.0603870     SD NEGERI 19 KUTA MAKMUR  10105952   \n",
       "1  3.5467020  97.7791500         SD NEGERI 2 LAWE DUA  10103260   \n",
       "2  5.0539000  97.1653000  SD NEGERI 8 SYAMTALIRA BAYU  10101021   \n",
       "3  3.4200000  97.0841000     SD NEGERI 2 LABUHAN HAJI  10102961   \n",
       "4  4.6173000  97.8364000              SDN SARAH TEUBE  10113616   \n",
       "\n",
       "                                    url  \n",
       "0  80925090-2EF5-E011-9DF3-FFD26BD6754E  \n",
       "1  B0829A90-2EF5-E011-8B89-173ABE814591  \n",
       "2  B0A35190-2EF5-E011-84BA-05A827682935  \n",
       "3  90F19690-2EF5-E011-A8CB-BD7296C30CBD  \n",
       "4  B035B1BA-23F3-E111-BCF1-2500304F5375  "
      ]
     },
     "execution_count": 161,
     "metadata": {},
     "output_type": "execute_result"
    }
   ],
   "source": [
    "d.head()"
   ]
  },
  {
   "cell_type": "code",
   "execution_count": null,
   "metadata": {
    "collapsed": true
   },
   "outputs": [],
   "source": []
  }
 ],
 "metadata": {
  "kernelspec": {
   "display_name": "Python 3",
   "language": "python",
   "name": "python3"
  },
  "language_info": {
   "codemirror_mode": {
    "name": "ipython",
    "version": 3
   },
   "file_extension": ".py",
   "mimetype": "text/x-python",
   "name": "python",
   "nbconvert_exporter": "python",
   "pygments_lexer": "ipython3",
   "version": "3.4.3"
  }
 },
 "nbformat": 4,
 "nbformat_minor": 0
}
