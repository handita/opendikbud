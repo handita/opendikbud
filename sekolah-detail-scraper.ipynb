{
 "cells": [
  {
   "cell_type": "code",
   "execution_count": 1,
   "metadata": {
    "collapsed": true
   },
   "outputs": [],
   "source": [
    "URL = \"http://sekolah.data.kemdikbud.go.id/index.php/chome/profil/8087D190-2EF5-E011-A099-593E675081E7\""
   ]
  },
  {
   "cell_type": "code",
   "execution_count": 2,
   "metadata": {
    "collapsed": false
   },
   "outputs": [
    {
     "name": "stderr",
     "output_type": "stream",
     "text": [
      "C:\\Anaconda2\\lib\\site-packages\\pandas\\computation\\__init__.py:19: UserWarning: The installed version of numexpr 2.4.4 is not supported in pandas and will be not be used\n",
      "\n",
      "  UserWarning)\n"
     ]
    }
   ],
   "source": [
    "import urllib\n",
    "from bs4 import BeautifulSoup\n",
    "import pandas as pd"
   ]
  },
  {
   "cell_type": "code",
   "execution_count": 6,
   "metadata": {
    "collapsed": false
   },
   "outputs": [],
   "source": [
    "master = urllib.urlopen(URL)\n",
    "mastersoup = BeautifulSoup(master)"
   ]
  },
  {
   "cell_type": "code",
   "execution_count": 52,
   "metadata": {
    "collapsed": false
   },
   "outputs": [
    {
     "name": "stdout",
     "output_type": "stream",
     "text": [
      "{u'SanitasiSiswa': u'1', u'LuasTanah': u'2,249M\\xb2', u'Guru': u'18', u'SemesterAktif': u'2015/2016-2', u'DayaListrik': u'900', u'SiswaPerempuan': u'76', u'Perpustakaan': u'2', u'RombonganBelajar': u'6', u'AksesInternet': u'', u'RuangKelas': u'6', u'WaktuPenyelenggaraan': u'Pagi', u'Kurikulum': u'KTSP', u'SumberListrik': u'', u'SiswaLaki-laki': u'76', u'ManajemenBerbasisSekolah': u'', u'Laboratorium': u'0'}\n"
     ]
    }
   ],
   "source": [
    "#col-xs-12 col-md-3 text-left\n",
    "info = {}\n",
    "for a in mastersoup.find_all(\"div\", class_=\"col-xs-12 col-md-3 text-left\"):\n",
    "    for b in a.text.splitlines(): \n",
    "            s =  b.strip().replace(\" \", \"\")\n",
    "            if s != \"\":\n",
    "                #print count\n",
    "                t = \" \".join(s.split()).replace(\" \", \"\").split(\":\")\n",
    "                for (k,v) in zip(t[0:][::2],t[1:][::2]):\n",
    "                    info[k]=v\n",
    "print info"
   ]
  },
  {
   "cell_type": "code",
   "execution_count": 57,
   "metadata": {
    "collapsed": false
   },
   "outputs": [],
   "source": [
    "school={}\n",
    "for keys in info.keys():\n",
    "    school[keys]=info[keys]"
   ]
  },
  {
   "cell_type": "code",
   "execution_count": 58,
   "metadata": {
    "collapsed": false
   },
   "outputs": [
    {
     "data": {
      "text/plain": [
       "{u'AksesInternet': u'',\n",
       " u'DayaListrik': u'900',\n",
       " u'Guru': u'18',\n",
       " u'Kurikulum': u'KTSP',\n",
       " u'Laboratorium': u'0',\n",
       " u'LuasTanah': u'2,249M\\xb2',\n",
       " u'ManajemenBerbasisSekolah': u'',\n",
       " u'Perpustakaan': u'2',\n",
       " u'RombonganBelajar': u'6',\n",
       " u'RuangKelas': u'6',\n",
       " u'SanitasiSiswa': u'1',\n",
       " u'SemesterAktif': u'2015/2016-2',\n",
       " u'SiswaLaki-laki': u'76',\n",
       " u'SiswaPerempuan': u'76',\n",
       " u'SumberListrik': u'',\n",
       " u'WaktuPenyelenggaraan': u'Pagi'}"
      ]
     },
     "execution_count": 58,
     "metadata": {},
     "output_type": "execute_result"
    }
   ],
   "source": [
    "school"
   ]
  },
  {
   "cell_type": "code",
   "execution_count": null,
   "metadata": {
    "collapsed": true
   },
   "outputs": [],
   "source": []
  }
 ],
 "metadata": {
  "kernelspec": {
   "display_name": "Python 2",
   "language": "python",
   "name": "python2"
  },
  "language_info": {
   "codemirror_mode": {
    "name": "ipython",
    "version": 2
   },
   "file_extension": ".py",
   "mimetype": "text/x-python",
   "name": "python",
   "nbconvert_exporter": "python",
   "pygments_lexer": "ipython2",
   "version": "2.7.10"
  }
 },
 "nbformat": 4,
 "nbformat_minor": 0
}
